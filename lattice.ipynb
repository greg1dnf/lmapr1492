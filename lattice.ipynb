{
 "cells": [
  {
   "cell_type": "code",
   "execution_count": 23,
   "id": "bd146394",
   "metadata": {},
   "outputs": [],
   "source": [
    "from pymatgen import Structure\n",
    "from jupyter_jsmol.pymatgen import quick_view\n",
    "from pymatgen.ext.matproj import MPRester\n",
    "from pymatgen.symmetry.analyzer import SpacegroupAnalyzer\n"
   ]
  },
  {
   "cell_type": "code",
   "execution_count": 24,
   "id": "eaf36cb3",
   "metadata": {},
   "outputs": [],
   "source": [
    "with MPRester(\"uV0oAcDvINnFw7CK\") as m:\n",
    "\n",
    "    # Structure for material id\n",
    "    structure = m.get_structure_by_material_id(\"mp-961711\")"
   ]
  },
  {
   "cell_type": "code",
   "execution_count": 25,
   "id": "198ebc66",
   "metadata": {},
   "outputs": [
    {
     "data": {
      "application/vnd.jupyter.widget-view+json": {
       "model_id": "5b62d20d5f154f06a2f688b5d09cdcd5",
       "version_major": 2,
       "version_minor": 0
      },
      "text/plain": [
       "JsmolView(layout=Layout(align_self='stretch', height='400px'))"
      ]
     },
     "metadata": {},
     "output_type": "display_data"
    }
   ],
   "source": [
    "view = quick_view(structure)\n",
    "display(view)"
   ]
  },
  {
   "cell_type": "code",
   "execution_count": 26,
   "id": "16a8eea5",
   "metadata": {},
   "outputs": [],
   "source": [
    " #1) Vecteurs de base des réseaux directs et réciproques"
   ]
  },
  {
   "cell_type": "code",
   "execution_count": 27,
   "id": "6e8efe98",
   "metadata": {},
   "outputs": [
    {
     "name": "stdout",
     "output_type": "stream",
     "text": [
      "Les vecteurs de base du réseau direct sont \n",
      " 0.000000 3.071194 3.071194\n",
      "3.071194 0.000000 3.071194\n",
      "3.071194 3.071194 0.000000\n"
     ]
    }
   ],
   "source": [
    "vect_direct = structure.lattice\n",
    "\n",
    "\n",
    "print(\"Les vecteurs de base du réseau direct sont \\n\", vect_direct)\n"
   ]
  },
  {
   "cell_type": "code",
   "execution_count": 28,
   "id": "f82c293c",
   "metadata": {},
   "outputs": [
    {
     "name": "stdout",
     "output_type": "stream",
     "text": [
      "Vecteurs des base du réseau direct de la strucutre:\n",
      "\n",
      "Normes en Ångström:\n",
      "\n",
      "a = 4.343324207478876\n",
      "b = 4.343324207478876\n",
      "c = 4.343324207478876 \n",
      "\n"
     ]
    }
   ],
   "source": [
    "vecteurs = structure.lattice\n",
    "normes = vecteurs.abc\n",
    "\n",
    "print(\"Vecteurs des base du réseau direct de la strucutre:\\n\")\n",
    "print(\"Normes en Ångström:\\n\")\n",
    "print(\"a =\",normes[0])\n",
    "print(\"b =\",normes[1])\n",
    "print(\"c =\",normes[2],\"\\n\")"
   ]
  },
  {
   "cell_type": "code",
   "execution_count": 29,
   "id": "97da9ff3",
   "metadata": {},
   "outputs": [
    {
     "name": "stdout",
     "output_type": "stream",
     "text": [
      "Les vecteurs de base du réseau réciproques sont \n",
      " -1.022922 1.022922 1.022922\n",
      "1.022922 -1.022922 1.022922\n",
      "1.022922 1.022922 -1.022922\n"
     ]
    }
   ],
   "source": [
    "vect_recip = vect_direct.reciprocal_lattice \n",
    "\n",
    "\n",
    "print(\"Les vecteurs de base du réseau réciproques sont \\n\", vect_recip)\n"
   ]
  },
  {
   "cell_type": "code",
   "execution_count": 30,
   "id": "65ad190d",
   "metadata": {},
   "outputs": [
    {
     "name": "stdout",
     "output_type": "stream",
     "text": [
      "Vecteurs des base du réseau réciproque de la strucutre:\n",
      "\n",
      "Normes en Ångström:\n",
      "\n",
      "a* = 1.7717532961781808\n",
      "b* = 1.7717532961781808\n",
      "c* = 1.7717532961781812 \n",
      "\n"
     ]
    }
   ],
   "source": [
    "vecteurs_r = structure.lattice.reciprocal_lattice\n",
    "normes_r = vecteurs_r.abc\n",
    "\n",
    "print(\"Vecteurs des base du réseau réciproque de la strucutre:\\n\")\n",
    "print(\"Normes en Ångström:\\n\")\n",
    "print(\"a* =\",normes_r[0])\n",
    "print(\"b* =\",normes_r[1])\n",
    "print(\"c* =\",normes_r[2],\"\\n\")"
   ]
  },
  {
   "cell_type": "code",
   "execution_count": 31,
   "id": "b8d28bad",
   "metadata": {},
   "outputs": [],
   "source": [
    "#2) Type de maille, système cristallin et groupe ponctuel"
   ]
  },
  {
   "cell_type": "code",
   "execution_count": 32,
   "id": "80b2279f",
   "metadata": {},
   "outputs": [
    {
     "name": "stdout",
     "output_type": "stream",
     "text": [
      "Type de maille: cubic\n"
     ]
    }
   ],
   "source": [
    "maille = SpacegroupAnalyzer(structure).get_lattice_type()\n",
    "print(\"Type de maille:\", maille )"
   ]
  },
  {
   "cell_type": "code",
   "execution_count": 33,
   "id": "cea2ae2a",
   "metadata": {},
   "outputs": [
    {
     "name": "stdout",
     "output_type": "stream",
     "text": [
      "Système cristallin : cubic\n"
     ]
    }
   ],
   "source": [
    "systeme = SpacegroupAnalyzer(structure).get_crystal_system()\n",
    "print(\"Système cristallin :\", systeme)"
   ]
  },
  {
   "cell_type": "code",
   "execution_count": 34,
   "id": "a2287b17",
   "metadata": {},
   "outputs": [
    {
     "name": "stdout",
     "output_type": "stream",
     "text": [
      "Groupe ponctuel : -43m\n"
     ]
    }
   ],
   "source": [
    "groupe = SpacegroupAnalyzer(structure).get_point_group_symbol()\n",
    "print(\"Groupe ponctuel :\", groupe)"
   ]
  },
  {
   "cell_type": "code",
   "execution_count": null,
   "id": "f322af6f",
   "metadata": {},
   "outputs": [],
   "source": []
  }
 ],
 "metadata": {
  "kernelspec": {
   "display_name": "Python 3",
   "language": "python",
   "name": "python3"
  },
  "language_info": {
   "codemirror_mode": {
    "name": "ipython",
    "version": 3
   },
   "file_extension": ".py",
   "mimetype": "text/x-python",
   "name": "python",
   "nbconvert_exporter": "python",
   "pygments_lexer": "ipython3",
   "version": "3.6.8"
  }
 },
 "nbformat": 4,
 "nbformat_minor": 5
}
